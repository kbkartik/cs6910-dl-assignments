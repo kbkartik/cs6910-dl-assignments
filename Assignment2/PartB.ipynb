{
  "nbformat": 4,
  "nbformat_minor": 0,
  "metadata": {
    "colab": {
      "name": "A2_PartB_final.ipynb",
      "provenance": [],
      "collapsed_sections": []
    },
    "kernelspec": {
      "name": "python3",
      "display_name": "Python 3"
    },
    "language_info": {
      "name": "python"
    },
    "accelerator": "GPU"
  },
  "cells": [
    {
      "cell_type": "code",
      "execution_count": null,
      "metadata": {
        "id": "1blrnCqWXzOu"
      },
      "outputs": [],
      "source": [
        "!pip -q install wandb\n",
        "\n",
        "!wget -q https://storage.googleapis.com/wandb_datasets/nature_12K.zip\n",
        "!unzip -q nature_12K.zip\n",
        "!rm nature_12K.zip\n",
        "!mv ./inaturalist_12K/val ./inaturalist_12K/test"
      ]
    },
    {
      "cell_type": "code",
      "source": [
        "import wandb\n",
        "import os\n",
        "os.environ[\"WANDB_SILENT\"] = \"true\"\n",
        "os.environ['WANDB_CONSOLE'] = 'off'\n",
        "wandb.login()"
      ],
      "metadata": {
        "id": "pOjc7rySYEdp"
      },
      "execution_count": null,
      "outputs": []
    },
    {
      "cell_type": "code",
      "source": [
        "import torch\n",
        "import numpy as np\n",
        "import random\n",
        "\n",
        "from hyperparams import partb_default_config, partb_config\n",
        "from agent import Agent\n",
        "from cnn import CNN\n",
        "from utils import Utils\n",
        "from guided_backprop import Guided_backprop\n",
        "\n",
        "# if gpu is to be used\n",
        "device = torch.device(\"cuda\" if torch.cuda.is_available() else \"cpu\")\n",
        "\n",
        "SEED = 123\n",
        "np.random.seed(SEED)\n",
        "random.seed(SEED)\n",
        "torch.manual_seed(SEED)"
      ],
      "metadata": {
        "id": "GdgG2f6lYJze"
      },
      "execution_count": null,
      "outputs": []
    },
    {
      "cell_type": "code",
      "source": [
        "train_path = \"/content/inaturalist_12K/train\"\n",
        "test_path = \"/content/inaturalist_12K/test\"\n",
        "BATCH_SIZE = 9\n",
        "EPOCHS = 10\n",
        "NUM_CLASSES = 10\n",
        "\n",
        "def single_sweep():\n",
        "    val_acc, test_acc = 0, 0\n",
        "    wandb.init(config=partb_default_config)\n",
        "    config = wandb.config\n",
        "\n",
        "    HYPERPARAMS = config._as_dict()\n",
        "    wandb.run.name = None\n",
        "    wandb.run.name = HYPERPARAMS[\"model_name\"][0] + \"_strategy_\" + HYPERPARAMS['strategy'] + \"_data_aug_\" + str(HYPERPARAMS['data_aug'])\n",
        "\n",
        "    utils_agent = Utils(train_path, test_path, BATCH_SIZE, HYPERPARAMS[\"model_name\"][1], train_transform=HYPERPARAMS['data_aug'])\n",
        "    model = utils_agent.get_pretrained_models(HYPERPARAMS[\"model_name\"][0], NUM_CLASSES, HYPERPARAMS['strategy']=='feature_extraction')\n",
        "    agent = Agent(model, utils_agent, EPOCHS, is_inception=(HYPERPARAMS[\"model_name\"][0]=='IV3'))\n",
        "    val_acc = agent.train() # your model training code here\n",
        "    _, test_acc = agent.evaluate(test_data=True, part_a=False)\n",
        "    wandb.log({'val_acc': val_acc.cpu().item(), 'test_accuracy': test_acc.cpu().item()})\n",
        "    wandb.finish(quiet=True)\n",
        "\n",
        "# run the sweep\n",
        "sweep_id = wandb.sweep(partb_config, project=\"test\", entity=\"kbdl\")\n",
        "wandb.agent(sweep_id, function=single_sweep, count=2)"
      ],
      "metadata": {
        "id": "x-NO6CXnsMP-"
      },
      "execution_count": null,
      "outputs": []
    },
    {
      "cell_type": "code",
      "source": [
        ""
      ],
      "metadata": {
        "id": "sbCID6cHnb8s"
      },
      "execution_count": null,
      "outputs": []
    }
  ]
}