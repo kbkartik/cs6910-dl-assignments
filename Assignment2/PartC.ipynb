{
  "nbformat": 4,
  "nbformat_minor": 0,
  "metadata": {
    "colab": {
      "name": "PartC.ipynb",
      "provenance": [],
      "collapsed_sections": []
    },
    "kernelspec": {
      "name": "python3",
      "display_name": "Python 3"
    },
    "accelerator": "GPU"
  },
  "cells": [
    {
      "cell_type": "markdown",
      "source": [
        "### Get mask detection dataset"
      ],
      "metadata": {
        "id": "CIY1MIlLoIeO"
      }
    },
    {
      "cell_type": "code",
      "source": [
        "from google.colab import drive\n",
        "drive.mount('/content/drive')"
      ],
      "metadata": {
        "id": "ojw-i8_iHQnf"
      },
      "execution_count": null,
      "outputs": []
    },
    {
      "cell_type": "code",
      "source": [
        "!cp -r /content/drive/MyDrive/6910/mask-detection-dataset ."
      ],
      "metadata": {
        "id": "wjllUcKNBOh1"
      },
      "execution_count": null,
      "outputs": []
    },
    {
      "cell_type": "code",
      "source": [
        "!apt -q install xvfb\n",
        "!pip3 install --quiet pyvirtualdisplay"
      ],
      "metadata": {
        "id": "oayDms-zBZdb"
      },
      "execution_count": null,
      "outputs": []
    },
    {
      "cell_type": "code",
      "source": [
        "import pyvirtualdisplay\n",
        "from PIL import Image\n",
        "import imageio\n",
        "import numpy as np\n",
        "\n",
        "d = pyvirtualdisplay.Display()\n",
        "d.start()\n",
        "\n",
        "with open('/content/data/test.txt') as file:\n",
        "    filenames = [line.rstrip() for line in file]\n",
        "file.close()\n",
        "\n",
        "images = []\n",
        "for filename in filenames:\n",
        "    img = Image.open(filename)\n",
        "    img = img.resize((640, 640))\n",
        "    images.append(img)\n",
        "imageio.mimsave('/content/test.gif', images, fps=1)"
      ],
      "metadata": {
        "id": "oFI5y0t9C51l"
      },
      "execution_count": null,
      "outputs": []
    },
    {
      "cell_type": "markdown",
      "source": [
        "### Run Yolov5"
      ],
      "metadata": {
        "id": "JVqYOvj-oSVL"
      }
    },
    {
      "cell_type": "code",
      "metadata": {
        "id": "PcnJLRk2rJXr"
      },
      "source": [
        "!git clone https://github.com/ultralytics/yolov5  # clone yolov5 repository"
      ],
      "execution_count": null,
      "outputs": []
    },
    {
      "cell_type": "code",
      "metadata": {
        "id": "rsvzdTx-rSfY"
      },
      "source": [
        "cd /content/yolov5"
      ],
      "execution_count": null,
      "outputs": []
    },
    {
      "cell_type": "code",
      "metadata": {
        "id": "iRYenhyWrYql"
      },
      "source": [
        "!pip -q install -U -r requirements.txt  # install dependencies"
      ],
      "execution_count": null,
      "outputs": []
    },
    {
      "cell_type": "markdown",
      "metadata": {
        "id": "_SNqxFfJX7Qn"
      },
      "source": [
        "Restart runtime at this point"
      ]
    },
    {
      "cell_type": "code",
      "metadata": {
        "id": "HyfIs3X_CiaD"
      },
      "source": [
        "import torch\n",
        "from IPython.display import Image  # for displaying images\n",
        "import numpy as np\n",
        "import random\n",
        "device = torch.device('cuda') if torch.cuda.is_available() else torch.device('cpu')\n",
        "SEED = 123\n",
        "np.random.seed(SEED)\n",
        "random.seed(SEED)\n",
        "torch.manual_seed(SEED)"
      ],
      "execution_count": null,
      "outputs": []
    },
    {
      "cell_type": "code",
      "metadata": {
        "id": "0o8F2OaX7Xvt"
      },
      "source": [
        "%load_ext tensorboard\n",
        "%tensorboard --logdir runs"
      ],
      "execution_count": null,
      "outputs": []
    },
    {
      "cell_type": "code",
      "metadata": {
        "id": "2kvwzMIzsGb7"
      },
      "source": [
        "!python3 train.py --batch-size 22 --epochs 100 --noval --data /content/mask-detection-dataset/data/data.yaml --cfg /content/yolov5/models/yolov5s.yaml --weights yolov5s.pt --img 640 --device 0 --cache"
      ],
      "execution_count": null,
      "outputs": []
    },
    {
      "cell_type": "markdown",
      "metadata": {
        "id": "Z9w8VrshZEr0"
      },
      "source": [
        "Run the following command to make a prediction"
      ]
    },
    {
      "cell_type": "code",
      "metadata": {
        "id": "Y6NlN4YF7gzq"
      },
      "source": [
        "!python3 detect.py --source /content/mask-detection-dataset/data/test.gif --weights /content/yolov5/runs/train/exp/weights/last.pt"
      ],
      "execution_count": null,
      "outputs": []
    }
  ]
}