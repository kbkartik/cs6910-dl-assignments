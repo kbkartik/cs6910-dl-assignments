{
  "nbformat": 4,
  "nbformat_minor": 2,
  "metadata": {
    "colab": {
      "name": "A2_PartA_working4 (1).ipynb",
      "provenance": [],
      "collapsed_sections": [
        "tVfV5PvQ_j-w"
      ]
    },
    "kernelspec": {
      "name": "python3",
      "display_name": "Python 3"
    },
    "language_info": {
      "name": "python"
    }
  },
  "cells": [
    {
      "cell_type": "code",
      "execution_count": null,
      "source": [
        "!pip -q install wandb\n",
        "!pip -q install torch-summary\n",
        "!wget -q https://storage.googleapis.com/wandb_datasets/nature_12K.zip\n",
        "!unzip -q nature_12K.zip\n",
        "!rm nature_12K.zip\n",
        "!mv ./inaturalist_12K/val ./inaturalist_12K/test"
      ],
      "outputs": [],
      "metadata": {
        "id": "AVZwR7YjGeXY"
      }
    },
    {
      "cell_type": "code",
      "execution_count": null,
      "source": [
        "import wandb\n",
        "import os\n",
        "os.environ[\"WANDB_SILENT\"] = \"true\"\n",
        "os.environ['WANDB_CONSOLE'] = 'off'\n",
        "wandb.login()"
      ],
      "outputs": [],
      "metadata": {
        "id": "UniYXLN1z7Am"
      }
    },
    {
      "cell_type": "code",
      "execution_count": null,
      "source": [
        "import torch\n",
        "import numpy as np\n",
        "import random\n",
        "\n",
        "from hyperparams import bayes_config_instance1, bayes_config_instance2, default_config_instance1, default_config_instance2, part_A_best_config, default_best_config_part_a\n",
        "from agent import Agent\n",
        "from cnn import CNN\n",
        "from utils import Utils\n",
        "from guided_backprop import Guided_backprop\n",
        "from torchsummary import summary\n",
        "\n",
        "# if gpu is to be used\n",
        "device = torch.device(\"cuda\" if torch.cuda.is_available() else \"cpu\")\n",
        "\n",
        "SEED = 123\n",
        "np.random.seed(SEED)\n",
        "random.seed(SEED)\n",
        "torch.manual_seed(SEED)"
      ],
      "outputs": [],
      "metadata": {
        "id": "wL3W8sJZ1Kgw"
      }
    },
    {
      "cell_type": "markdown",
      "source": [
        "## Find hyperparams"
      ],
      "metadata": {
        "id": "tVfV5PvQ_j-w"
      }
    },
    {
      "cell_type": "code",
      "execution_count": null,
      "source": [
        "train_path = \"/content/inaturalist_12K/train\"\n",
        "test_path = \"/content/inaturalist_12K/test\"\n",
        "BATCH_SIZE = 256\n",
        "EPOCHS = 10\n",
        "IMG_DIM = 128"
      ],
      "outputs": [],
      "metadata": {
        "id": "sWAubvS8ArqQ"
      }
    },
    {
      "cell_type": "code",
      "execution_count": null,
      "source": [
        "def single_sweep(default_config):\n",
        "    val_acc = 0\n",
        "    wandb.init(config=default_config)\n",
        "    config = wandb.config\n",
        "\n",
        "    HYPERPARAMS = config._as_dict()\n",
        "    wandb.run.name = None\n",
        "    wandb.run.name = HYPERPARAMS[\"activation\"] + \"_nfil_\" + str(HYPERPARAMS['n_filters']) + \"_filorg_\" + str(HYPERPARAMS['conv_filter_org']) + \"_BN_\" + str(HYPERPARAMS['batch_norm']) + \"_filsize_\" + str(HYPERPARAMS['conv_filter_size']) + \"_dout_\" + str(HYPERPARAMS['dropout']) + \"_data_aug_\" + str(HYPERPARAMS['data_aug']) + \"_mlp_neurons_\" + str(HYPERPARAMS['n_mlp_neurons'])\n",
        "\n",
        "    utils_agent = Utils(train_path, test_path, BATCH_SIZE, (IMG_DIM, IMG_DIM), train_transform=HYPERPARAMS['data_aug'])\n",
        "    model = CNN((1, 3, IMG_DIM, IMG_DIM), HYPERPARAMS)\n",
        "    agent = Agent(model, utils_agent, EPOCHS)\n",
        "    val_acc = agent.train() # your model training code here\n",
        "    wandb.log({'val_acc': val_acc.cpu().item()})\n",
        "    wandb.finish(quiet=True)"
      ],
      "outputs": [],
      "metadata": {
        "id": "yJxpy-GK_qYI"
      }
    },
    {
      "cell_type": "code",
      "execution_count": null,
      "source": [
        "# run the instance_1 sweep\n",
        "sweep_id = wandb.sweep(bayes_config_instance1, project=\"test\", entity=\"kbdl\")\n",
        "wandb.agent(sweep_id, function=single_sweep(default_config_instance1), count=15)"
      ],
      "outputs": [],
      "metadata": {
        "id": "0s9u1fwDAngo"
      }
    },
    {
      "cell_type": "code",
      "execution_count": null,
      "source": [
        "# run the instance_2 sweep\n",
        "sweep_id = wandb.sweep(bayes_config_instance2, project=\"test\", entity=\"kbdl\")\n",
        "wandb.agent(sweep_id, function=single_sweep(default_config_instance2), count=8)"
      ],
      "outputs": [],
      "metadata": {
        "id": "t2bFW7wMBAm4"
      }
    },
    {
      "cell_type": "markdown",
      "source": [
        "## Best hyperparams"
      ],
      "metadata": {
        "id": "Emv6N1ZSBZXQ"
      }
    },
    {
      "cell_type": "code",
      "execution_count": null,
      "source": [
        "def best_sweep():\n",
        "    val_acc, test_acc = 0, 0\n",
        "    wandb.init(config=default_best_config_part_a)\n",
        "    config = wandb.config\n",
        "\n",
        "    HYPERPARAMS = config._as_dict()\n",
        "    wandb.run.name = None\n",
        "    wandb.run.name = \"GBP\" + HYPERPARAMS[\"activation\"] + \"_nfil_\" + str(HYPERPARAMS['n_filters']) + \"_filorg_\" + str(HYPERPARAMS['conv_filter_org']) + \"_BN_\" + str(HYPERPARAMS['batch_norm']) + \"_filsize_\" + str(HYPERPARAMS['conv_filter_size']) + \"_dout_\" + str(HYPERPARAMS['dropout']) + \"_data_aug_\" + str(HYPERPARAMS['data_aug']) + \"_mlp_neurons_\" + str(HYPERPARAMS['n_mlp_neurons'])\n",
        "\n",
        "    utils_agent = Utils(train_path, test_path, BATCH_SIZE, (IMG_DIM, IMG_DIM), train_transform=HYPERPARAMS['data_aug'])\n",
        "    model = CNN((1, 3, IMG_DIM, IMG_DIM), HYPERPARAMS)\n",
        "    #summary(model, (3, IMG_DIM, IMG_DIM))\n",
        "    agent = Agent(model, utils_agent, EPOCHS)\n",
        "\n",
        "    val_acc = agent.train() # your model training code here\n",
        "    _, test_acc = agent.evaluate(test_data=True)\n",
        "    wandb.log({'val_acc': val_acc.cpu().item(), 'test_accuracy': test_acc.cpu().item()})\n",
        "\n",
        "    utils_agent.visualize_filters_cnn(agent.model)\n",
        "    guided_bp = Guided_backprop(agent.model, utils_agent)\n",
        "    guided_bp.visualize(utils_agent.get_rand_image(dataloader_type='test'))\n",
        "\n",
        "    wandb.finish(quiet=True)"
      ],
      "outputs": [],
      "metadata": {
        "id": "Jmlo7fUDBeGY"
      }
    },
    {
      "cell_type": "code",
      "execution_count": null,
      "source": [
        "# run the best sweep\n",
        "sweep_id = wandb.sweep(part_A_best_config, project=\"test\", entity=\"kbdl\")\n",
        "wandb.agent(sweep_id, function=best_sweep, count=1)"
      ],
      "outputs": [],
      "metadata": {
        "id": "QuAnvb4LJzTY"
      }
    },
    {
      "cell_type": "code",
      "execution_count": null,
      "source": [],
      "outputs": [],
      "metadata": {
        "id": "-uZ4HvPMWRJ4"
      }
    }
  ]
}