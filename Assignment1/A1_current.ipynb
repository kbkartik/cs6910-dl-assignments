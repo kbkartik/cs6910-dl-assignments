{
  "cells": [
    {
      "cell_type": "code",
      "execution_count": 13,
      "source": [
        "!pip --quiet install wandb\n",
        "import wandb\n",
        "import os\n",
        "os.environ[\"WANDB_SILENT\"] = \"true\"\n",
        "wandb.login()"
      ],
      "outputs": [
        {
          "output_type": "execute_result",
          "data": {
            "text/plain": [
              "True"
            ]
          },
          "metadata": {},
          "execution_count": 13
        }
      ],
      "metadata": {
        "colab": {
          "base_uri": "https://localhost:8080/"
        },
        "id": "lFWY1xRwh6JT",
        "outputId": "bfe54be3-3900-43be-b12c-b8d02f462e70"
      }
    },
    {
      "cell_type": "code",
      "execution_count": 7,
      "source": [
        "from keras.datasets import fashion_mnist\n",
        "import numpy as np\n",
        "from tqdm import tqdm\n",
        "from utils import preprocess\n",
        "\n",
        "np.random.seed(10)\n",
        "\n",
        "# Loading FMNIST\n",
        "(x_train, y_train), (x_test, y_test) = fashion_mnist.load_data()\n",
        "x_train, y_train, x_val, y_val, x_test, y_test = preprocess(x_train, x_test, y_train, y_test, preprocess_type='img_standardize')\n",
        "\n",
        "\n",
        "# Loading MNIST\n",
        "(mnist_x_train, mnist_y_train), (mnist_x_test, mnist_y_test) = mnist.load_data()\n",
        "mnist_x_train, mnist_y_train, mnist_x_val, mnist_y_val, mnist_x_test, mnist_y_test = preprocess(mnist_x_train, mnist_x_test, mnist_y_train, mnist_y_test, preprocess_type='img_standardize')"
      ],
      "outputs": [],
      "metadata": {
        "id": "SJWRpx_1-Omq"
      }
    },
    {
      "cell_type": "code",
      "execution_count": 10,
      "source": [
        "from activations import activation_dict, Softmax\n",
        "from layers import Linear\n",
        "from loss_function import Categorical_CE\n",
        "from optimizers import optimizer_dict\n",
        "from backprop import Backprop\n",
        "from hyperparams import bayes_sweep_config, random_sweep_config, default_config"
      ],
      "outputs": [],
      "metadata": {
        "id": "kj72vsbaGRA3"
      }
    },
    {
      "cell_type": "code",
      "execution_count": 16,
      "source": [
        "class fNN:\n",
        "\n",
        "    def __init__(self, input_dims, n_classes, x_val, y_val, loss_fn_type, activation_type, batch_size, num_epochs, n_hidden_neurons, \n",
        "                 lamda, lr, n_hidden_layers, optimizer_type, weight_init_type):\n",
        "        \n",
        "        self.NN = []\n",
        "        self.activations = []\n",
        "\n",
        "        self.num_epochs = num_epochs\n",
        "        self.n_hidden_layers = n_hidden_layers\n",
        "        self.batch_size = batch_size\n",
        "\n",
        "        self.activation_fn, gain = activation_dict[activation_type] # Set activation for hidden layers\n",
        "        self.softmax_activation = Softmax()\n",
        "\n",
        "        # Choose loss function\n",
        "        if loss_fn_type == 'CCE':\n",
        "            self.loss_fn = Categorical_CE()\n",
        "        elif loss_fn_type == 'MSE':\n",
        "            self.loss_fn = MSE()\n",
        "\n",
        "        # Create feedforward NN\n",
        "        self.create_model(input_dims, n_classes, n_hidden_neurons, weight_init_type, activation_type, gain)\n",
        "\n",
        "        optimizer = optimizer_dict[optimizer_type] # Set optimizer\n",
        "        self.backprop = Backprop(Categorical_CE(), optimizer(lr, lamda, n_hidden_layers))\n",
        "\n",
        "        # Validation data\n",
        "        self.x_val = x_val\n",
        "        self.y_val = y_val\n",
        "\n",
        "    def create_model(self, input_dims, n_classes, n_hidden_neurons, weight_init_type, activation_type, gain):\n",
        "\n",
        "        for l in range(self.n_hidden_layers+1):\n",
        "            fc = None\n",
        "            if l == 0:\n",
        "                #fc = Linear(input_dims, n_hidden_neurons[l]+1, weight_init_type, gain)\n",
        "                fc = Linear(input_dims, n_hidden_neurons+1, weight_init_type, activation_type, gain)\n",
        "                self.activations.append(self.activation_fn)\n",
        "            elif l == self.n_hidden_layers:\n",
        "                #fc = Linear(n_hidden_neurons[l-1]+1, n_classes, weight_init_type, gain)\n",
        "                fc = Linear(n_hidden_neurons+1, n_classes, weight_init_type, activation_type, gain)\n",
        "                self.activations.append(self.softmax_activation)\n",
        "            else:\n",
        "                #fc = Linear(n_hidden_neurons[l-1]+1, n_hidden_neurons[l]+1, weight_init_type, gain)\n",
        "                fc = Linear(n_hidden_neurons+1, n_hidden_neurons+1, weight_init_type, activation_type, gain)\n",
        "                self.activations.append(self.activation_fn)\n",
        "\n",
        "            # Creating network\n",
        "            self.NN.append(fc)\n",
        "        \n",
        "    def forward(self, x):\n",
        "\n",
        "        layer_wise_output = [x]\n",
        "        for i in range(self.n_hidden_layers+1):\n",
        "            x = self.NN[i](x)\n",
        "            x = self.activations[i](x)\n",
        "            layer_wise_output.append(x)\n",
        "        \n",
        "        return layer_wise_output\n",
        "\n",
        "    def fit(self, x_train, y_train):\n",
        "        \n",
        "        n_data = x_train.shape[0]\n",
        "        train_loss = []\n",
        "        for ep in range(self.num_epochs):\n",
        "            d = 0\n",
        "            epoch_loss = []\n",
        "            while d < n_data:\n",
        "                loss = 0\n",
        "                t = min(n_data - d, self.batch_size)\n",
        "\n",
        "                x_mini_batch = x_train[d:d+t]\n",
        "                y_mini_batch = y_train[d:d+t]\n",
        "\n",
        "                layer_wise_output = self.forward(x_mini_batch)\n",
        "                loss = self.loss_fn.loss(layer_wise_output[-1], y_mini_batch)\n",
        "                epoch_loss.append(loss)\n",
        "                self.NN = self.backprop.backward(self.activations, layer_wise_output, self.NN, y_mini_batch)\n",
        "                \n",
        "                d += self.batch_size\n",
        "            \n",
        "            #train_loss.append(np.mean(epoch_loss))\n",
        "            val_acc, val_loss, _, _ = self.evaluate(self.x_val, self.y_val)\n",
        "            wandb.log({'train_loss': np.mean(epoch_loss), 'val_loss': val_loss, 'val_acc': val_acc})\n",
        "\n",
        "    def evaluate(self, x, y):\n",
        "\n",
        "        # Evaluate model\n",
        "        n_datapoints = x.shape[0]\n",
        "        layer_wise_outputs = self.forward(x)\n",
        "        y_hat = layer_wise_outputs[-1]\n",
        "        eval_loss = self.loss_fn.loss(y_hat, y) / n_datapoints\n",
        "        y_pred = np.argmax(y_hat, axis=1)\n",
        "        y_true = np.argmax(y, axis=1)\n",
        "        accuracy = (len(np.argwhere(y_pred == y_true))/n_datapoints)*100\n",
        "\n",
        "        return accuracy, eval_loss, y_pred, y_true"
      ],
      "outputs": [],
      "metadata": {
        "id": "N5id1z-b-ztE"
      }
    },
    {
      "cell_type": "code",
      "execution_count": 9,
      "source": [
        "# Train function runs wandb sweeps\n",
        "def train():\n",
        "    wandb.init(config=default_config)\n",
        "    config = wandb.config\n",
        "    n_classes = 10\n",
        "    input_dims = x_train.shape[1]\n",
        "    \n",
        "    hyperparams = config._as_dict()\n",
        "    wandb.run.name = hyperparams[\"activation\"] + \"_bs_\"+ str(hyperparams[\"batch_size\"]) + \"_ep_\" + str(hyperparams[\"epochs\"]) + \"_hl_\" + str(hyperparams[\"n_hidden_layers\"]) + \"_\" + hyperparams[\"optimizer\"] + \"_\" + hyperparams[\"weight_init_type\"]\n",
        "    model = fNN(input_dims, n_classes, x_val, y_val, 'CCE', *list(config._as_dict().values())[:-1])\n",
        "    model.fit(x_train, y_train)  # your model training code here\n",
        "    test_acc, _, _, _ = model.evaluate(x_test, y_test)\n",
        "    wandb.log({'test_acc': test_acc})\n",
        "    wandb.finish(quiet=True)"
      ],
      "outputs": [],
      "metadata": {
        "id": "mRb1dzwH264j"
      }
    },
    {
      "cell_type": "markdown",
      "source": [
        "### Bayesian Sweep"
      ],
      "metadata": {
        "id": "13DK7WRisOgH"
      }
    },
    {
      "cell_type": "code",
      "execution_count": 12,
      "source": [
        "sweep_id = wandb.sweep(bayes_sweep_config, project=\"test\", entity=\"kbdl\")\n",
        "wandb.agent(sweep_id, function=train(), count=50)\n",
        "wandb.finish()"
      ],
      "outputs": [],
      "metadata": {
        "id": "kgl3CmJ18WgN"
      }
    },
    {
      "cell_type": "markdown",
      "source": [
        "### Random sweep"
      ],
      "metadata": {
        "id": "I1fmfMIksUFK"
      }
    },
    {
      "cell_type": "code",
      "execution_count": null,
      "source": [
        "sweep_id = wandb.sweep(random_sweep_config, project=\"test\", entity=\"kbdl\")\n",
        "wandb.agent(sweep_id, function=train(), count=50)\n",
        "wandb.finish()"
      ],
      "outputs": [],
      "metadata": {
        "id": "K1ZK60eqsX3x"
      }
    },
    {
      "cell_type": "markdown",
      "source": [
        "### Question 7"
      ],
      "metadata": {
        "id": "7QYYxRPIKAK0"
      }
    },
    {
      "cell_type": "code",
      "execution_count": 13,
      "source": [
        "optimal_model = {\n",
        "    \"activation\" : 'sigmoid',\n",
        "    \"batch_size\" : 16,\n",
        "    \"epochs\" : 10,\n",
        "    \"hidden_layer_size\": 128,\n",
        "    \"lamda\": 0,\n",
        "    \"lr\" : 0.001,\n",
        "    \"n_hidden_layers\" : 3,\n",
        "    \"optimizer\": \"nadam\",\n",
        "    \"weight_init_type\" : 'xavier',\n",
        "}"
      ],
      "outputs": [],
      "metadata": {
        "id": "7RkseEEvNgwj"
      }
    },
    {
      "cell_type": "code",
      "execution_count": 19,
      "source": [
        "for lossfn in ['CCE', 'MSE']:\n",
        "    wandb.init(config=optimal_model, project=\"test\", entity=\"kbdl\")\n",
        "    config = wandb.config\n",
        "    n_classes = 10\n",
        "    input_dims = x_train.shape[1]\n",
        "    \n",
        "    hyperparams = config._as_dict()\n",
        "    wandb.run.name = hyperparams[\"activation\"] + \"_bs_\"+ str(hyperparams[\"batch_size\"]) + \"_ep_\" + str(hyperparams[\"epochs\"]) + \"_hl_\" + str(hyperparams[\"n_hidden_layers\"]) + \"_\" + hyperparams[\"optimizer\"] + \"_\" + hyperparams[\"weight_init_type\"]\n",
        "    wandb.run.name += \"_\" + lossfn\n",
        "    model = fNN(input_dims, n_classes, x_val, y_val, lossfn, *list(hyperparams.values())[:-1])\n",
        "    model.fit(x_train, y_train)  # your model training code here\n",
        "\n",
        "wandb.finish(quiet=True)"
      ],
      "outputs": [],
      "metadata": {
        "id": "Iwr9IqRg7Nc4"
      }
    },
    {
      "cell_type": "markdown",
      "source": [
        "### Question 8"
      ],
      "metadata": {
        "id": "LXAxq3yuJ6ic"
      }
    },
    {
      "cell_type": "code",
      "execution_count": 21,
      "source": [
        "wandb.init(config=optimal_model, project=\"test\", entity=\"kbdl\")\n",
        "config = wandb.config\n",
        "n_classes = 10\n",
        "input_dims = x_train.shape[1]\n",
        "\n",
        "hyperparams = config._as_dict()\n",
        "wandb.run.name = \"optimal_model_conf_matrix\"\n",
        "model = fNN(input_dims, n_classes, x_val, y_val, 'CCE', *list(hyperparams.values())[:-1])\n",
        "model.fit(x_train, y_train)  # your model training code here\n",
        "test_acc, _, y_pred, y_true = model.evaluate(x_test, y_test)\n",
        "wandb.log({\"conf_mat\" : wandb.plot.confusion_matrix(preds=y_pred, y_true=y_true, class_names=[\"T-shirt/top\", \"Trouser\", \"Pullover\", \"Dress\", \"Coat\", \"Sandal\", \"Shirt\", \"Sneaker\", \"Bag\", \"Ankle boot\"])})\n",
        "\n",
        "wandb.finish(quiet=True)"
      ],
      "outputs": [],
      "metadata": {
        "id": "7xzWAGDPBrWK"
      }
    },
    {
      "cell_type": "markdown",
      "source": [
        "### Question 10"
      ],
      "metadata": {
        "id": "lW8i3urt7TsL"
      }
    },
    {
      "cell_type": "code",
      "execution_count": 11,
      "source": [
        "# Rank 1 model based on validation accuracy\n",
        "model_a = {\n",
        "    \"activation\" : 'sigmoid',\n",
        "    \"batch_size\" : 16,\n",
        "    \"epochs\" : 10,\n",
        "    \"hidden_layer_size\": 128,\n",
        "    \"lamda\": 0,\n",
        "    \"lr\" : 0.001,\n",
        "    \"n_hidden_layers\" : 3,\n",
        "    \"optimizer\": \"nadam\",\n",
        "    \"weight_init_type\" : 'xavier',\n",
        "}\n",
        "\n",
        "# Rank 2 model based on validation accuracy\n",
        "model_b = {\n",
        "    \"activation\" : 'tanh',\n",
        "    \"batch_size\" : 64,\n",
        "    \"epochs\" : 5,\n",
        "    \"hidden_layer_size\": 128,\n",
        "    \"lamda\": 0,\n",
        "    \"lr\" : 0.001,\n",
        "    \"n_hidden_layers\" : 3,\n",
        "    \"optimizer\": \"nadam\",\n",
        "    \"weight_init_type\" : 'xavier',\n",
        "}\n",
        "\n",
        "# Rank 3 model based on validation accuracy\n",
        "model_c = {\n",
        "    \"activation\" : 'sigmoid',\n",
        "    \"batch_size\" : 16,\n",
        "    \"epochs\" : 10,\n",
        "    \"hidden_layer_size\": 128,\n",
        "    \"lamda\": 0,\n",
        "    \"lr\" : 0.001,\n",
        "    \"n_hidden_layers\" : 4,\n",
        "    \"optimizer\": \"nadam\",\n",
        "    \"weight_init_type\" : 'xavier',\n",
        "}"
      ],
      "outputs": [],
      "metadata": {
        "id": "jCC0QVn7KX64"
      }
    },
    {
      "cell_type": "code",
      "execution_count": 17,
      "source": [
        "mnist_runs = {'model_a': model_a, 'model_b': model_b, 'model_c': model_c}\n",
        "for model_name, model_config in mnist_runs.items():\n",
        "    wandb.init(config=model_config, project=\"test\", entity=\"kbdl\")\n",
        "    config = wandb.config\n",
        "    n_classes = 10\n",
        "    input_dims = mnist_x_train.shape[1]\n",
        "\n",
        "    hyperparams = config._as_dict()\n",
        "    wandb.run.name = \"mnist\" + model_name\n",
        "    model = fNN(input_dims, n_classes, mnist_x_val, mnist_y_val, 'CCE', *list(hyperparams.values())[:-1])\n",
        "    model.fit(mnist_x_train, mnist_y_train)  # your model training code here\n",
        "    #test_acc, _, y_pred, y_true = model.evaluate(x_test, y_test)\n",
        "    wandb.finish(quiet=True)"
      ],
      "outputs": [],
      "metadata": {
        "id": "SKDzlGu9Kj1p"
      }
    }
  ],
  "metadata": {
    "colab": {
      "collapsed_sections": [
        "7QYYxRPIKAK0",
        "LXAxq3yuJ6ic",
        "lW8i3urt7TsL"
      ],
      "name": "A1_current.ipynb",
      "provenance": []
    },
    "kernelspec": {
      "display_name": "Python 3",
      "name": "python3"
    },
    "language_info": {
      "name": "python"
    }
  },
  "nbformat": 4,
  "nbformat_minor": 2
}