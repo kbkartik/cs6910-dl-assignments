{
  "nbformat": 4,
  "nbformat_minor": 0,
  "metadata": {
    "colab": {
      "name": "A1.ipynb",
      "provenance": [],
      "collapsed_sections": []
    },
    "kernelspec": {
      "name": "python3",
      "display_name": "Python 3"
    },
    "language_info": {
      "name": "python"
    }
  },
  "cells": [
    {
      "cell_type": "code",
      "source": [
        "!pip --quiet install wandb\n",
        "import wandb\n",
        "import os\n",
        "#os.environ[\"WANDB_SILENT\"] = \"false\"\n",
        "wandb.login()"
      ],
      "metadata": {
        "id": "lFWY1xRwh6JT"
      },
      "execution_count": null,
      "outputs": []
    },
    {
      "cell_type": "code",
      "execution_count": null,
      "metadata": {
        "id": "SJWRpx_1-Omq"
      },
      "outputs": [],
      "source": [
        "from keras.datasets import fashion_mnist\n",
        "import numpy as np\n",
        "from tqdm import tqdm\n",
        "from utils import preprocess\n",
        "\n",
        "np.random.seed(0)\n",
        "\n",
        "(x_train, y_train), (x_test, y_test) = fashion_mnist.load_data()\n",
        "x_train, y_train, x_test = preprocess(x_train, x_test, y_train, y_test, preprocess_type='normalize')"
      ]
    }
  ]
}